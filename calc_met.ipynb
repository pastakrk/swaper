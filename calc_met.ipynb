{
 "metadata": {
  "anaconda-cloud": {},
  "kernelspec": {
   "display_name": "Python 3",
   "language": "python",
   "name": "python3"
  },
  "language_info": {
   "codemirror_mode": {
    "name": "ipython",
    "version": 3
   },
   "file_extension": ".py",
   "mimetype": "text/x-python",
   "name": "python",
   "nbconvert_exporter": "python",
   "pygments_lexer": "ipython3",
   "version": "3.5.2"
  },
  "name": "",
  "signature": "sha256:6f2b36fdd899a5954bab48e715abff722e2fceb6828f30cb0840b894171f1d43"
 },
 "nbformat": 3,
 "nbformat_minor": 0,
 "worksheets": [
  {
   "cells": [
    {
     "cell_type": "markdown",
     "metadata": {},
     "source": [
      "$$Price_{bid} = (\\frac{base}{quote})_{bid}$$"
     ]
    },
    {
     "cell_type": "markdown",
     "metadata": {},
     "source": [
      "$$Price_{ask} = (\\frac{base}{quote})_{ask}$$"
     ]
    },
    {
     "cell_type": "markdown",
     "metadata": {},
     "source": [
      "$$Short=Price_{bid}*(\\frac{1+\\frac{(Rate_{bid}^{quote}-\\frac{markup}{2})}{360}}{1+\\frac{(Rate_{ask}^{base}+\\frac{markup}{2})}{360}}-1) $$"
     ]
    },
    {
     "cell_type": "markdown",
     "metadata": {
      "collapsed": true
     },
     "source": [
      "$$Long=Price_{ask}*(1-\\frac{1+\\frac{(Rate_{ask}^{quote}+\\frac{markup}{2})}{360}}{1+\\frac{(Rate_{bid}^{base}-\\frac{markup}{2})}{360}}) $$\n"
     ]
    },
    {
     "cell_type": "code",
     "collapsed": true,
     "input": [],
     "language": "python",
     "metadata": {},
     "outputs": [],
     "prompt_number": null
    },
    {
     "cell_type": "code",
     "collapsed": false,
     "input": [],
     "language": "python",
     "metadata": {},
     "outputs": []
    }
   ],
   "metadata": {}
  }
 ]
}